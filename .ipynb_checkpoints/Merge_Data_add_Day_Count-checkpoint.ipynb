{
 "cells": [
  {
   "cell_type": "markdown",
   "metadata": {},
   "source": [
    "# Script to Consolidate Data and Create a Day Count"
   ]
  },
  {
   "cell_type": "code",
   "execution_count": 1,
   "metadata": {
    "collapsed": true
   },
   "outputs": [],
   "source": [
    "import pandas as pd\n",
    "import glob"
   ]
  },
  {
   "cell_type": "code",
   "execution_count": 2,
   "metadata": {
    "collapsed": true
   },
   "outputs": [],
   "source": [
    "path = \"D:/Dropbox/Data/R Shiny/20-03-20 Covid-19\""
   ]
  },
  {
   "cell_type": "markdown",
   "metadata": {},
   "source": [
    "## Combine all the files together"
   ]
  },
  {
   "cell_type": "code",
   "execution_count": 3,
   "metadata": {
    "collapsed": true
   },
   "outputs": [],
   "source": [
    "all_files = glob.glob(path + \"/csse_covid_19_daily_reports/*.csv\")\n",
    "\n",
    "li = []\n",
    "\n",
    "# for files in folder, create a dataframe out of them\n",
    "for filename in all_files:\n",
    "    df = pd.read_csv(filename, index_col=None, header=0)\n",
    "    # create a date field that is generated from the file name\n",
    "    df['date'] = filename.split('\\\\')[-1].split('.')[0]\n",
    "    # add data to list\n",
    "    li.append(df)\n",
    "\n",
    "# concatinate all data (union) into final dataframe    \n",
    "frame = pd.concat(li, axis=0, ignore_index=True)\n",
    "\n",
    "# Change Country Names for consistency\n",
    "frame[\"Country/Region\"].replace({\"occupied Palestinian territory\": \"Palestine\", \"Mainland China\": \"China\", \"Taiwan*\": \"Taiwan\", \"UK\": \"United Kingdom\", \"The Bahamas\": \"Bahamas, The\", \"Iran (Islamic Republic of)\": \"Iran\", \"Hong Kong SAR\": \"Hong Kong\", \"The Gambia\": \"Gambia, The\", \"Viet Nam\": \"Vietnam\", \"Korea, South\": \"South Korea\"}, inplace=True)"
   ]
  },
  {
   "cell_type": "code",
   "execution_count": 4,
   "metadata": {
    "collapsed": true
   },
   "outputs": [],
   "source": [
    "# aggregate numbers by country\n",
    "country_df = frame.groupby(['Country/Region','date']).sum().reset_index()"
   ]
  },
  {
   "cell_type": "markdown",
   "metadata": {},
   "source": [
    "## Aggregate the numbers on a country level"
   ]
  },
  {
   "cell_type": "code",
   "execution_count": 5,
   "metadata": {
    "collapsed": true
   },
   "outputs": [],
   "source": [
    "country_list = []\n",
    "\n",
    "# split the dataframe by country\n",
    "for country, country_df in country_df.groupby('Country/Region'):\n",
    "    # Add a day field and number it chronologically\n",
    "    country_df = country_df.reset_index()\n",
    "    country_df['Days'] = country_df.index + 1\n",
    "    \n",
    "    # Get deltas for deaths, recovered, and then new cases using pd.diff() function\n",
    "    country_df['New_Deaths'] = country_df['Deaths'].diff()\n",
    "    country_df['New_Recovered'] = country_df['Recovered'].diff()\n",
    "    country_df['New_Confirmed'] = country_df['Confirmed'].diff()\n",
    "    \n",
    "    \n",
    "    # add data to list\n",
    "    country_list.append(country_df)\n",
    "    \n",
    "# concatinate all data (union) into final dataframe    \n",
    "frame2 = pd.concat(country_list, axis=0, ignore_index=True)"
   ]
  },
  {
   "cell_type": "code",
   "execution_count": 8,
   "metadata": {},
   "outputs": [],
   "source": [
    "# Ensure new values are > 0\n",
    "import numpy as np\n",
    "frame2['New_Confirmed'] = np.where(frame2['New_Confirmed'] < 0, 0, frame2['New_Confirmed'])\n",
    "frame2['New_Deaths'] = np.where(frame2['New_Deaths'] < 0, 0, frame2['New_Deaths'])\n",
    "frame2['New_Recovered'] = np.where(frame2['New_Recovered'] < 0, 0, frame2['New_Recovered'])"
   ]
  },
  {
   "cell_type": "markdown",
   "metadata": {},
   "source": [
    "## Cleaning the data"
   ]
  },
  {
   "cell_type": "code",
   "execution_count": 9,
   "metadata": {
    "collapsed": true
   },
   "outputs": [],
   "source": [
    "# delete newly created fields\n",
    "del frame2['index']"
   ]
  },
  {
   "cell_type": "code",
   "execution_count": 10,
   "metadata": {
    "collapsed": true
   },
   "outputs": [],
   "source": [
    "# rearrange fields for easier reading\n",
    "final_table = frame2[['date','Days','Country/Region','Confirmed','New_Confirmed','Deaths','New_Deaths','Recovered','New_Recovered','Latitude','Longitude']]\n",
    "#replace NaN with empty string\n",
    "final_table = final_table.fillna(0)\n",
    "# Get active cases for the day\n",
    "final_table['Active_Cases'] = final_table['Confirmed'] - final_table['Deaths'] - final_table['Recovered']"
   ]
  },
  {
   "cell_type": "code",
   "execution_count": 11,
   "metadata": {
    "collapsed": true
   },
   "outputs": [],
   "source": [
    "# for row in dataframe\n",
    "for i, row in final_table.iterrows():\n",
    "    # if Days == 1\n",
    "    if (row['Days'] == 1):\n",
    "        # C_delta == Confirmed, D_delta == Deaths, R_delta == Recovered\n",
    "        final_table.at[i,'New_Confirmed'] = row['Confirmed']\n",
    "        final_table.at[i,'New_Deaths'] = row['Deaths']\n",
    "        final_table.at[i,'New_Recovered'] = row['Recovered']"
   ]
  },
  {
   "cell_type": "code",
   "execution_count": 13,
   "metadata": {},
   "outputs": [],
   "source": [
    "#final_table[final_table['Country/Region'] == 'US']"
   ]
  },
  {
   "cell_type": "code",
   "execution_count": 14,
   "metadata": {
    "collapsed": true
   },
   "outputs": [],
   "source": [
    "final_table.to_csv(path + \"/transformed.csv\", index=False)"
   ]
  },
  {
   "cell_type": "code",
   "execution_count": null,
   "metadata": {
    "collapsed": true
   },
   "outputs": [],
   "source": []
  }
 ],
 "metadata": {
  "kernelspec": {
   "display_name": "Python 3",
   "language": "python",
   "name": "python3"
  },
  "language_info": {
   "codemirror_mode": {
    "name": "ipython",
    "version": 3
   },
   "file_extension": ".py",
   "mimetype": "text/x-python",
   "name": "python",
   "nbconvert_exporter": "python",
   "pygments_lexer": "ipython3",
   "version": "3.6.1"
  }
 },
 "nbformat": 4,
 "nbformat_minor": 2
}
